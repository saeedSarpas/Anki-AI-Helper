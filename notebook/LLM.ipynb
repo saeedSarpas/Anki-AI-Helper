{
 "cells": [
  {
   "cell_type": "code",
   "execution_count": null,
   "id": "9616077e-a6d2-487d-802b-1a992daa998b",
   "metadata": {},
   "outputs": [],
   "source": [
    "import torch\n",
    "\n",
    "from anki_language_deck_generator.LLM.vicuna_7b_v15 import Vicuna\n",
    "\n",
    "system_prompt = \"As a language model assisting with German language learning, provide precise explanations, examples, and translations for various German words. Focus on delivering responses in a structured, concise format, without adding any extra information or notes.\"\n",
    "query_prompt = \"Provide the singular and plural forms of the German noun 'das Wasser', with their translations in parentheses. Use 'Singular:' for the singular form with its article, and 'Plural:' for the plural form with its article.\"\n",
    "\n",
    "with torch.cuda.amp.autocast(dtype=torch.bfloat16):\n",
    "    with Vicuna(system_prompt) as vicuna:\n",
    "        print(vicuna.shoot(query_prompt))"
   ]
  }
 ],
 "metadata": {
  "kernelspec": {
   "display_name": "Python 3 (ipykernel)",
   "language": "python",
   "name": "python3"
  },
  "language_info": {
   "codemirror_mode": {
    "name": "ipython",
    "version": 3
   },
   "file_extension": ".py",
   "mimetype": "text/x-python",
   "name": "python",
   "nbconvert_exporter": "python",
   "pygments_lexer": "ipython3",
   "version": "3.10.12"
  }
 },
 "nbformat": 4,
 "nbformat_minor": 5
}
