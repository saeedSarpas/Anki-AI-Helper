{
 "cells": [
  {
   "cell_type": "markdown",
   "id": "37f09694-7ef0-43f7-8fe3-e8b0f61464e9",
   "metadata": {},
   "source": [
    "## Datasets"
   ]
  },
  {
   "cell_type": "code",
   "execution_count": null,
   "id": "6da0d903-1681-43c9-9d45-f4e2361ec4d3",
   "metadata": {},
   "outputs": [],
   "source": [
    "from anki_language_deck_generator.dataset.german_word_list import GermanWordList\n",
    "\n",
    "word_list = GermanWordList()\n",
    "\n",
    "for row in word_list:\n",
    "    print(row)\n",
    "    break"
   ]
  },
  {
   "cell_type": "markdown",
   "id": "c9ef97ad-62cf-4460-bbba-a7b89f242b49",
   "metadata": {},
   "source": [
    "## Text Generator"
   ]
  },
  {
   "cell_type": "code",
   "execution_count": null,
   "id": "9616077e-a6d2-487d-802b-1a992daa998b",
   "metadata": {},
   "outputs": [],
   "source": [
    "import torch\n",
    "\n",
    "from anki_language_deck_generator.LLM.vicuna_7b_v15 import Vicuna\n",
    "\n",
    "SYSTEM_PROMPT = \"As a language model assisting with German language learning, provide precise explanations, examples, and translations for various German words. Focus on delivering responses in a structured, concise format, without adding any extra information or notes.\"\n",
    "QUERY_PROMPT = \"Provide the singular and plural forms of the German noun 'das Wasser', with their translations in parentheses. Use 'Singular:' for the singular form with its article, and 'Plural:' for the plural form with its article.\"\n",
    "\n",
    "with torch.cuda.amp.autocast(dtype=torch.bfloat16):\n",
    "    with Vicuna(SYSTEM_PROMPT) as vicuna:\n",
    "        print(vicuna.shoot(QUERY_PROMPT))"
   ]
  },
  {
   "cell_type": "markdown",
   "id": "102984ce-7049-4fa7-87fc-eefad5ac3162",
   "metadata": {},
   "source": [
    "## Text to Speech"
   ]
  },
  {
   "cell_type": "code",
   "execution_count": null,
   "id": "9e88528a-3e01-4c8f-985a-2154d96710f4",
   "metadata": {},
   "outputs": [],
   "source": [
    "import torch\n",
    "from datetime import datetime\n",
    "\n",
    "from anki_language_deck_generator.T2S.tts_v2 import TTSV2\n",
    "from anki_language_deck_generator.helper import io as io_utils\n",
    "\n",
    "TEMP_DIR = io_utils.create_temp_directory(f'text_to_speech')\n",
    "T2S_OUTPUT_FILENAME = f\"TTS_{datetime.now().strftime('%y%m%d-%H%M%S')}\"\n",
    "TEXT = \"A curious fox named Finn discovered a hidden grove in the enchanted forest, where fireflies danced around a crystal pond, whispering tales of starlit secrets.\"\n",
    "\n",
    "with TTSV2('en', TEMP_DIR) as tts:\n",
    "    tts.shoot(TEXT, T2S_OUTPUT_FILENAME)"
   ]
  },
  {
   "cell_type": "markdown",
   "id": "9bc44efd-70b5-4586-9fc5-ebe530ad8b15",
   "metadata": {},
   "source": [
    "## Anki Deck"
   ]
  },
  {
   "cell_type": "code",
   "execution_count": null,
   "id": "5262f3da-e042-4732-96d1-017f953f5b59",
   "metadata": {},
   "outputs": [],
   "source": [
    "from anki_language_deck_generator.anki.style.two_sentences_polyglot_puzzler import TwoSentencesPuzzlerStyle, TwoSentencesPuzzlerFields, TwoSentencesPuzzlerNote\n",
    "from anki_language_deck_generator.anki.deck import AnkiDeck\n",
    "\n",
    "from anki_language_deck_generator.helper import io as io_helper\n",
    "\n",
    "deck_style = TwoSentencesPuzzlerStyle()\n",
    "deck_fields = TwoSentencesPuzzlerFields()\n",
    "deck = AnkiDeck(deck_name='example', style=deck_style, fields=deck_fields)\n",
    "note = TwoSentencesPuzzlerNote({\n",
    "    '1_pzl': 'Das Wetter heute ist .... schön. (Hint: An adverb to enhance \\'schön\\')',\n",
    "    '1_fil': 'Das Wetter heute ist sehr schön.',\n",
    "    '1_ans': 'sehr',\n",
    "    '1_ans_trans': 'very',\n",
    "    '1_trans': 'The weather today is very nice.',\n",
    "    '1_pzl_vce': '', # Add the 1st sentence puzzle voice here\n",
    "    '1_fil_vce': '', # Add the 1st sentence filled voice here\n",
    "    '1_trans_vce': '', # Add the 1st sentence translation voice here\n",
    "    '2_pzl': 'Ich möchte ..... Kaffee trinken. (Hint: An indefinite article for \\'Kaffee\\')',\n",
    "    '2_fil': 'Ich möchte einen Kaffee trinken.',\n",
    "    '2_ans': 'einen',\n",
    "    '2_ans_trans': 'a',\n",
    "    '2_trans': 'I would like to drink a coffee.',\n",
    "    '2_pzl_vce': '', # Add the 2nd sentence puzzle voice here\n",
    "    '2_fil_vce': '', # Add the 2nd sentence filled voice here\n",
    "    '2_trans_vce': '', # Add the 2nd sentence translation voice here\n",
    "    'expl_1': 'The word \\'sehr\\' enhances adjectives or adverbs, similar to \\'very\\' in English.',\n",
    "    'expl_2': '\\'Einen\\' is the accusative form of the indefinite article \\'ein\\' used for masculine nouns like \\'Kaffee\\'.'\n",
    "})\n",
    "\n",
    "deck.add_note(note)\n",
    "\n",
    "deck_path = deck.save([])\n",
    "assert deck_path != None\n",
    "\n",
    "n_deleted_files = io_helper.delete_file(deck_path)\n",
    "assert n_deleted_files == 1"
   ]
  }
 ],
 "metadata": {
  "kernelspec": {
   "display_name": "Python 3 (ipykernel)",
   "language": "python",
   "name": "python3"
  },
  "language_info": {
   "codemirror_mode": {
    "name": "ipython",
    "version": 3
   },
   "file_extension": ".py",
   "mimetype": "text/x-python",
   "name": "python",
   "nbconvert_exporter": "python",
   "pygments_lexer": "ipython3",
   "version": "3.10.12"
  }
 },
 "nbformat": 4,
 "nbformat_minor": 5
}
