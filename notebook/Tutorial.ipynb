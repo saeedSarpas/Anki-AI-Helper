{
 "cells": [
  {
   "cell_type": "markdown",
   "id": "c9ef97ad-62cf-4460-bbba-a7b89f242b49",
   "metadata": {},
   "source": [
    "## Text Generator"
   ]
  },
  {
   "cell_type": "code",
   "execution_count": null,
   "id": "9616077e-a6d2-487d-802b-1a992daa998b",
   "metadata": {},
   "outputs": [],
   "source": [
    "import torch\n",
    "\n",
    "from anki_language_deck_generator.LLM.vicuna_7b_v15 import Vicuna\n",
    "\n",
    "SYSTEM_PROMPT = \"As a language model assisting with German language learning, provide precise explanations, examples, and translations for various German words. Focus on delivering responses in a structured, concise format, without adding any extra information or notes.\"\n",
    "QUERY_PROMPT = \"Provide the singular and plural forms of the German noun 'das Wasser', with their translations in parentheses. Use 'Singular:' for the singular form with its article, and 'Plural:' for the plural form with its article.\"\n",
    "\n",
    "with torch.cuda.amp.autocast(dtype=torch.bfloat16):\n",
    "    with Vicuna(SYSTEM_PROMPT) as vicuna:\n",
    "        print(vicuna.shoot(QUERY_PROMPT))"
   ]
  },
  {
   "cell_type": "markdown",
   "id": "102984ce-7049-4fa7-87fc-eefad5ac3162",
   "metadata": {},
   "source": [
    "## Text to Speech"
   ]
  },
  {
   "cell_type": "code",
   "execution_count": null,
   "id": "9e88528a-3e01-4c8f-985a-2154d96710f4",
   "metadata": {},
   "outputs": [],
   "source": [
    "import torch\n",
    "from datetime import datetime\n",
    "\n",
    "from anki_language_deck_generator.T2S.tts_v2 import TTSV2\n",
    "from anki_language_deck_generator.helper import io as io_utils\n",
    "\n",
    "TEMP_DIR = io_utils.create_temp_directory(f'text_to_speech')\n",
    "T2S_OUTPUT_FILENAME = f\"TTS_{datetime.now().strftime('%y%m%d-%H%M%S')}\"\n",
    "TEXT = \"A curious fox named Finn discovered a hidden grove in the enchanted forest, where fireflies danced around a crystal pond, whispering tales of starlit secrets.\"\n",
    "\n",
    "with TTSV2('en', TEMP_DIR) as tts:\n",
    "    tts.shoot(TEXT, T2S_OUTPUT_FILENAME)"
   ]
  }
 ],
 "metadata": {
  "kernelspec": {
   "display_name": "Python 3 (ipykernel)",
   "language": "python",
   "name": "python3"
  },
  "language_info": {
   "codemirror_mode": {
    "name": "ipython",
    "version": 3
   },
   "file_extension": ".py",
   "mimetype": "text/x-python",
   "name": "python",
   "nbconvert_exporter": "python",
   "pygments_lexer": "ipython3",
   "version": "3.10.12"
  }
 },
 "nbformat": 4,
 "nbformat_minor": 5
}
